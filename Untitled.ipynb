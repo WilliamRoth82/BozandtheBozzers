{
 "cells": [
  {
   "cell_type": "code",
   "execution_count": 20,
   "id": "4e664baf-a4fb-480e-aff1-3c27079140b8",
   "metadata": {},
   "outputs": [
    {
     "name": "stdout",
     "output_type": "stream",
     "text": [
      "0   RegionName      10025     60657      10023     60614     79936      10002  \\\n",
      "1         City   New York   Chicago   New York   Chicago   El Paso   New York   \n",
      "2        State         NY        IL         NY        IL        TX         NY   \n",
      "3        Metro   New York   Chicago   New York   Chicago   El Paso   New York   \n",
      "4   CountyName   New York      Cook   New York      Cook   El Paso   New York   \n",
      "5     SizeRank          1         2          3         4         5          6   \n",
      "..         ...        ...       ...        ...       ...       ...        ...   \n",
      "94     2017-05  1459000.0  499000.0  2392500.0  674900.0  139500.0  1577500.0   \n",
      "95     2017-06  1397500.0  500000.0  2395000.0  665000.0  139925.0  1577500.0   \n",
      "96     2017-07  1315000.0  485000.0  2495000.0  665000.0  139450.0  1580000.0   \n",
      "97     2017-08  1320000.0  485000.0  2395000.0  659500.0  139900.0  1588000.0   \n",
      "98     2017-09  1295000.0  514724.0  2395000.0  675000.0  139000.0  1617000.0   \n",
      "\n",
      "0      60640     77084          94109  ...                 89413        28668  \\\n",
      "1    Chicago   Houston  San Francisco  ...             Glenbrook  Roaring Gap   \n",
      "2         IL        TX             CA  ...                    NV           NC   \n",
      "3    Chicago   Houston  San Francisco  ...  Gardnerville Ranchos          NaN   \n",
      "4       Cook    Harris  San Francisco  ...               Douglas    Alleghany   \n",
      "5          7         8              9  ...                 10300        10301   \n",
      "..       ...       ...            ...  ...                   ...          ...   \n",
      "94  259900.0  189900.0      1199000.0  ...             2795000.0     289950.0   \n",
      "95  270000.0  189900.0      1211000.0  ...             2547500.0     290000.0   \n",
      "96  265000.0  189992.5      1319000.0  ...             2497500.0     295900.0   \n",
      "97  253950.0  189990.0      1322000.0  ...             2547500.0     289900.0   \n",
      "98  256500.0  189900.0      1195000.0  ...             2625000.0     297500.0   \n",
      "\n",
      "0        26291     81220              15502         98583             27972  \\\n",
      "1     Snowshoe  Cimarron  Somerset Township          Elma             Salvo   \n",
      "2           WV        CO                 PA            WA                NC   \n",
      "3          NaN       NaN           Somerset      Aberdeen  Kill Devil Hills   \n",
      "4   Pocahontas  Gunnison           Somerset  Grays Harbor              Dare   \n",
      "5        10302     10303              10304         10305             10306   \n",
      "..         ...       ...                ...           ...               ...   \n",
      "94    225000.0  295047.5           197500.0      145400.0          472400.0   \n",
      "95    234750.0  295595.0           192200.0      145400.0          474900.0   \n",
      "96    237500.0  292547.5           199000.0      145400.0          459900.0   \n",
      "97    237500.0  295595.0           192500.0      154400.0          449200.0   \n",
      "98    232250.0  295595.0           189900.0      150495.0          462400.0   \n",
      "\n",
      "0        26209              76005                81225  \n",
      "1     Snowshoe          Arlington  Mount Crested Butte  \n",
      "2           WV                 TX                   CO  \n",
      "3          NaN  Dallas-Fort Worth                  NaN  \n",
      "4   Pocahontas            Tarrant             Gunnison  \n",
      "5        10307              10308                10309  \n",
      "..         ...                ...                  ...  \n",
      "94    109000.0           418603.0             492500.0  \n",
      "95    109000.0           387151.0             497000.0  \n",
      "96    105400.0           388959.5             490000.0  \n",
      "97    109000.0           388873.0             489000.0  \n",
      "98    107500.0           379316.0             492500.0  \n",
      "\n",
      "[98 rows x 10310 columns]\n"
     ]
    }
   ],
   "source": [
    "import pandas as pd\n",
    "\n",
    "sea_level = pd.read_csv(\"inputs/sealevel.csv\")\n",
    "data = pd.read_csv(\"inputs/Zip_Zip_MedianListingPrice_AllHomes.csv\")\n",
    "filtered_data = sea_level[::3]\n",
    "\n",
    "# Transpose the DataFrame\n",
    "transposed_data = data.T\n",
    "\n",
    "# If the index (dates) should be the header\n",
    "transposed_data.reset_index(inplace=True)\n",
    "new_header = transposed_data.iloc[0]\n",
    "transposed_data = transposed_data[1:]\n",
    "transposed_data.columns = new_header\n",
    "\n",
    "# Save the transposed DataFrame to a new CSV file\n",
    "print(transposed_data)"
   ]
  },
  {
   "cell_type": "code",
   "execution_count": null,
   "id": "7c24e1b9-b492-4866-aafd-7bf475735e94",
   "metadata": {},
   "outputs": [],
   "source": []
  }
 ],
 "metadata": {
  "kernelspec": {
   "display_name": "Python 3 (ipykernel)",
   "language": "python",
   "name": "python3"
  },
  "language_info": {
   "codemirror_mode": {
    "name": "ipython",
    "version": 3
   },
   "file_extension": ".py",
   "mimetype": "text/x-python",
   "name": "python",
   "nbconvert_exporter": "python",
   "pygments_lexer": "ipython3",
   "version": "3.9.16"
  }
 },
 "nbformat": 4,
 "nbformat_minor": 5
}
